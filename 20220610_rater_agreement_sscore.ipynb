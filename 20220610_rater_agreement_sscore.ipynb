{
  "nbformat": 4,
  "nbformat_minor": 0,
  "metadata": {
    "colab": {
      "provenance": [],
      "include_colab_link": true
    },
    "kernelspec": {
      "name": "python3",
      "display_name": "Python 3"
    },
    "language_info": {
      "name": "python"
    }
  },
  "cells": [
    {
      "cell_type": "markdown",
      "metadata": {
        "id": "view-in-github",
        "colab_type": "text"
      },
      "source": [
        "<a href=\"https://colab.research.google.com/github/masatsuneki/hello-world/blob/master/20220610_rater_agreement_sscore.ipynb\" target=\"_parent\"><img src=\"https://colab.research.google.com/assets/colab-badge.svg\" alt=\"Open In Colab\"/></a>"
      ]
    },
    {
      "cell_type": "code",
      "execution_count": null,
      "metadata": {
        "colab": {
          "base_uri": "https://localhost:8080/"
        },
        "id": "_DGGxr6woA_A",
        "outputId": "968b8f24-c957-4c43-b049-857a37f0dbd4"
      },
      "outputs": [
        {
          "output_type": "stream",
          "name": "stdout",
          "text": [
            "Looking in indexes: https://pypi.org/simple, https://us-python.pkg.dev/colab-wheels/public/simple/\n",
            "Collecting agreement\n",
            "  Downloading agreement-0.1.1-py3-none-any.whl (19 kB)\n",
            "Requirement already satisfied: numpy>=1.20.2 in /usr/local/lib/python3.7/dist-packages (from agreement) (1.21.6)\n",
            "Installing collected packages: agreement\n",
            "Successfully installed agreement-0.1.1\n"
          ]
        }
      ],
      "source": [
        "!pip install agreement"
      ]
    },
    {
      "cell_type": "code",
      "source": [
        "import numpy  as np\n"
      ],
      "metadata": {
        "id": "E1l957qgoEjP"
      },
      "execution_count": null,
      "outputs": []
    },
    {
      "cell_type": "code",
      "source": [
        "data = \"\"\"10\t0\t0\n",
        "10\t0\t0\n",
        "10\t0\t0\n",
        "10\t0\t0\n",
        "9\t1\t0\n",
        "10\t0\t0\n",
        "10\t0\t0\n",
        "9\t1\t0\n",
        "9\t1\t0\n",
        "10\t0\t0\n",
        "10\t0\t0\n",
        "10\t0\t0\n",
        "10\t0\t0\n",
        "9\t1\t0\n",
        "10\t0\t0\n",
        "9\t1\t0\n",
        "10\t0\t0\n",
        "10\t0\t0\n",
        "10\t0\t0\n",
        "10\t0\t0\n",
        "10\t0\t0\n",
        "10\t0\t0\n",
        "10\t0\t0\n",
        "10\t0\t0\n",
        "9\t1\t0\n",
        "\"\"\""
      ],
      "metadata": {
        "id": "C0EQ6Bl8pL8B"
      },
      "execution_count": null,
      "outputs": []
    },
    {
      "cell_type": "code",
      "source": [
        "row = []\n",
        "rows = []\n",
        "for i, d in enumerate(data.split()):\n",
        "  row.append(int(d))\n",
        "  if len(row) == 3:\n",
        "    rows.append(row)\n",
        "    row = []"
      ],
      "metadata": {
        "id": "dCV6NJnNpO65"
      },
      "execution_count": null,
      "outputs": []
    },
    {
      "cell_type": "code",
      "source": [
        "questions_answers_table = np.array(rows)"
      ],
      "metadata": {
        "id": "nKQfj-rEpq1i"
      },
      "execution_count": null,
      "outputs": []
    },
    {
      "cell_type": "code",
      "source": [
        "print(questions_answers_table)"
      ],
      "metadata": {
        "colab": {
          "base_uri": "https://localhost:8080/"
        },
        "id": "v-rT4TRlp2mR",
        "outputId": "018daf9c-f8e8-4468-dc92-9840ff9423ab"
      },
      "execution_count": null,
      "outputs": [
        {
          "output_type": "stream",
          "name": "stdout",
          "text": [
            "[[10  0  0]\n",
            " [10  0  0]\n",
            " [10  0  0]\n",
            " [10  0  0]\n",
            " [ 9  1  0]\n",
            " [10  0  0]\n",
            " [10  0  0]\n",
            " [ 9  1  0]\n",
            " [ 9  1  0]\n",
            " [10  0  0]\n",
            " [10  0  0]\n",
            " [10  0  0]\n",
            " [10  0  0]\n",
            " [ 9  1  0]\n",
            " [10  0  0]\n",
            " [ 9  1  0]\n",
            " [10  0  0]\n",
            " [10  0  0]\n",
            " [10  0  0]\n",
            " [10  0  0]\n",
            " [10  0  0]\n",
            " [10  0  0]\n",
            " [10  0  0]\n",
            " [10  0  0]\n",
            " [ 9  1  0]]\n"
          ]
        }
      ]
    },
    {
      "cell_type": "code",
      "source": [
        "from agreement import metrics"
      ],
      "metadata": {
        "id": "wncG_Jz4oab_"
      },
      "execution_count": null,
      "outputs": []
    },
    {
      "cell_type": "code",
      "source": [
        "metrics.s_score(questions_answers_table)"
      ],
      "metadata": {
        "colab": {
          "base_uri": "https://localhost:8080/"
        },
        "id": "tkokhCvsooX6",
        "outputId": "706d6d06-4ddb-45a5-f87f-f085a1659206"
      },
      "execution_count": null,
      "outputs": [
        {
          "output_type": "execute_result",
          "data": {
            "text/plain": [
              "0.9279999999999999"
            ]
          },
          "metadata": {},
          "execution_count": 31
        }
      ]
    },
    {
      "cell_type": "code",
      "source": [],
      "metadata": {
        "id": "EJdJ446zo0mn"
      },
      "execution_count": null,
      "outputs": []
    }
  ]
}